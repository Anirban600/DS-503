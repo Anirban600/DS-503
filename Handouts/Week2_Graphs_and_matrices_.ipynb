{
  "nbformat": 4,
  "nbformat_minor": 5,
  "metadata": {
    "kernelspec": {
      "display_name": "Python 3",
      "language": "python",
      "name": "python3"
    },
    "language_info": {
      "codemirror_mode": {
        "name": "ipython",
        "version": 3
      },
      "file_extension": ".py",
      "mimetype": "text/x-python",
      "name": "python",
      "nbconvert_exporter": "python",
      "pygments_lexer": "ipython3",
      "version": "3.7.9"
    },
    "colab": {
      "name": "Graphs and matrices .ipynb",
      "provenance": [],
      "collapsed_sections": [
        "connected-skiing",
        "bacterial-grammar"
      ],
      "include_colab_link": true
    }
  },
  "cells": [
    {
      "cell_type": "markdown",
      "metadata": {
        "id": "view-in-github",
        "colab_type": "text"
      },
      "source": [
        "<a href=\"https://colab.research.google.com/github/gagan-iitb/DS-503/blob/main/Handouts/Week2_Graphs_and_matrices_.ipynb\" target=\"_parent\"><img src=\"https://colab.research.google.com/assets/colab-badge.svg\" alt=\"Open In Colab\"/></a>"
      ]
    },
    {
      "cell_type": "markdown",
      "metadata": {
        "id": "attempted-stress"
      },
      "source": [
        "## Friendship Data"
      ],
      "id": "attempted-stress"
    },
    {
      "cell_type": "code",
      "metadata": {
        "id": "stunning-strip",
        "colab": {
          "base_uri": "https://localhost:8080/",
          "height": 35
        },
        "outputId": "8a826537-c87e-4cea-f2a1-900f7ce368be"
      },
      "source": [
        "users = [\n",
        "{ \"id\": 0, \"name\": \"Hero\" },\n",
        "{ \"id\": 1, \"name\": \"Dunn\" },\n",
        "{ \"id\": 2, \"name\": \"Sue\" },\n",
        "{ \"id\": 3, \"name\": \"Chi\" },\n",
        "{ \"id\": 4, \"name\": \"Thor\" },\n",
        "{ \"id\": 5, \"name\": \"Clive\" },\n",
        "{ \"id\": 6, \"name\": \"Hicks\" },\n",
        "{ \"id\": 7, \"name\": \"Devin\" },\n",
        "{ \"id\": 8, \"name\": \"Kate\" },\n",
        "{ \"id\": 9, \"name\": \"Klein\" }\n",
        "]\n",
        "users[0]['name']"
      ],
      "id": "stunning-strip",
      "execution_count": null,
      "outputs": [
        {
          "output_type": "execute_result",
          "data": {
            "application/vnd.google.colaboratory.intrinsic+json": {
              "type": "string"
            },
            "text/plain": [
              "'Hero'"
            ]
          },
          "metadata": {
            "tags": []
          },
          "execution_count": 48
        }
      ]
    },
    {
      "cell_type": "code",
      "metadata": {
        "id": "severe-yahoo"
      },
      "source": [
        "friendship_pairs = [(0, 1), (0, 2), (1, 2), (1, 3), (2, 3), (3, 4), (4, 5), (5, 6), (5, 7), (6, 8), (7, 8), (8, 9)]"
      ],
      "id": "severe-yahoo",
      "execution_count": null,
      "outputs": []
    },
    {
      "cell_type": "markdown",
      "metadata": {
        "id": "running-pearl"
      },
      "source": [
        "### Exercise: Visualize this as a graph using Networkx"
      ],
      "id": "running-pearl"
    },
    {
      "cell_type": "code",
      "metadata": {
        "id": "criminal-knock"
      },
      "source": [
        "# For visualization learn to use Networkx\n",
        "# Please edit the code below appropriately"
      ],
      "id": "criminal-knock",
      "execution_count": null,
      "outputs": []
    },
    {
      "cell_type": "code",
      "metadata": {
        "colab": {
          "base_uri": "https://localhost:8080/",
          "height": 248
        },
        "id": "lAPLPKOj2yRN",
        "outputId": "aee40425-1a14-4043-9343-2ed92f60a73b"
      },
      "source": [
        "# Plotting a friendships graph\n",
        "\n",
        "import networkx as nx\n",
        "import matplotlib.pyplot as plt\n",
        "\n",
        "Gr = nx.Graph()\n",
        "\n",
        "for a,b in friendship_pairs:\n",
        "  Gr.add_edge(users[a][\"name\"],users[b][\"name\"])\n",
        "\n",
        "positions = { \"Hero\":(0,0) , \"Dunn\":(-2,1) , \"Sue\":(2,1) , \"Chi\":(-1,2) , \"Thor\":(3,2) ,\n",
        "                         \"Clive\":(7,2) , \"Hicks\":(7,1) , \"Devin\":(11,2) , \"Kate\":(11,1), \"Klein\":(7,0)  }\n",
        "options = {\n",
        "    \"font_size\": 10,\n",
        "    \"node_size\": 2500,\n",
        "    \"font_color\":\"red\",\n",
        "    \"node_color\": \"yellow\",\n",
        "    \"edgecolors\": \"green\",\n",
        "    \"linewidths\": 5,\n",
        "    \"width\": 5,\n",
        "}\n",
        "\n",
        "nx.draw_networkx(Gr,positions,**options)\n",
        "\n",
        "ax = plt.gca()\n",
        "ax.margins(0.30)\n",
        "plt.axis(\"on\")\n",
        "plt.show()"
      ],
      "id": "lAPLPKOj2yRN",
      "execution_count": null,
      "outputs": [
        {
          "output_type": "display_data",
          "data": {
            "image/png": "[encoded data removed]",
            "text/plain": [
              "<Figure size 432x288 with 1 Axes>"
            ]
          },
          "metadata": {
            "tags": []
          }
        }
      ]
    },
    {
      "cell_type": "code",
      "metadata": {
        "colab": {
          "base_uri": "https://localhost:8080/",
          "height": 248
        },
        "id": "alternative-trainer",
        "outputId": "6000b73d-46eb-495f-e1c6-7ab59999b1b9"
      },
      "source": [
        "import networkx as nx\n",
        "import matplotlib.pyplot as plt\n",
        "\n",
        "G = nx.Graph()\n",
        "G.add_edge(1, 2)\n",
        "G.add_edge(1, 3)\n",
        "G.add_edge(1, 5)\n",
        "G.add_edge(2, 3)\n",
        "G.add_edge(3, 4)\n",
        "G.add_edge(4, 5)\n",
        "\n",
        "# explicitly set positions\n",
        "pos = {1: (0, 0), 2: (-1, 0.4), 3: (2, 0.23), 4: (4, 0.4), 5: (4, 0.03)}\n",
        "\n",
        "options = {\n",
        "    \"font_size\": 36,\n",
        "    \"node_size\": 3000,\n",
        "    \"font_color\":\"red\",\n",
        "    \"node_color\": \"yellow\",\n",
        "    \"edgecolors\": \"green\",\n",
        "    \"linewidths\": 5,\n",
        "    \"width\": 5,\n",
        "}\n",
        "nx.draw_networkx(G, pos, **options)\n",
        "\n",
        "# Set margins for the axes so that nodes aren't clipped\n",
        "ax = plt.gca()\n",
        "ax.margins(0.30)\n",
        "plt.axis(\"on\")\n",
        "plt.show()\n",
        "print(G.edges)\n"
      ],
      "id": "alternative-trainer",
      "execution_count": null,
      "outputs": [
        {
          "output_type": "display_data",
          "data": {
            "image/png": "[encoded data removed]",
            "text/plain": [
              "<Figure size 432x288 with 1 Axes>"
            ]
          },
          "metadata": {
            "tags": []
          }
        }
      ]
    },
    {
      "cell_type": "code",
      "metadata": {
        "id": "communist-directory"
      },
      "source": [
        "# Give colors and labels to the nodes\n",
        "# https://networkx.org/documentation/latest/auto_examples/drawing/plot_labels_and_colors.html\n"
      ],
      "id": "communist-directory",
      "execution_count": null,
      "outputs": []
    },
    {
      "cell_type": "markdown",
      "metadata": {
        "id": "hispanic-traveler"
      },
      "source": [
        "### Convert this in the form of a matrix with (i,j) being 1 if i is a friend of j else 0"
      ],
      "id": "hispanic-traveler"
    },
    {
      "cell_type": "code",
      "metadata": {
        "colab": {
          "base_uri": "https://localhost:8080/"
        },
        "id": "contrary-privacy",
        "outputId": "7e661032-9682-46ab-ccbf-a9a9e357fcf3"
      },
      "source": [
        "#print(friendship_pairs)\n",
        "m_not_like_this=[[0]*10]*10 #this creates copies\n",
        "m_not_like_this[0][0]=1\n",
        "# don't do like this --> m=[[0]*10]*10\n",
        "\n",
        "m=[[0]*10 for i in range(10)]  \n",
        "for a,b in friendship_pairs:\n",
        "  m[a][b]=1\n",
        "  m[b][a]=1\n",
        "  \n",
        "\"This is correct matrix\",m,\"<---------------------------->\",\"This is incorrect\",m_not_like_this"
      ],
      "id": "contrary-privacy",
      "execution_count": null,
      "outputs": [
        {
          "output_type": "execute_result",
          "data": {
            "text/plain": [
              "('This is correct matrix',\n",
              " [[0, 1, 1, 0, 0, 0, 0, 0, 0, 0],\n",
              "  [1, 0, 1, 1, 0, 0, 0, 0, 0, 0],\n",
              "  [1, 1, 0, 1, 0, 0, 0, 0, 0, 0],\n",
              "  [0, 1, 1, 0, 1, 0, 0, 0, 0, 0],\n",
              "  [0, 0, 0, 1, 0, 1, 0, 0, 0, 0],\n",
              "  [0, 0, 0, 0, 1, 0, 1, 1, 0, 0],\n",
              "  [0, 0, 0, 0, 0, 1, 0, 0, 1, 0],\n",
              "  [0, 0, 0, 0, 0, 1, 0, 0, 1, 0],\n",
              "  [0, 0, 0, 0, 0, 0, 1, 1, 0, 1],\n",
              "  [0, 0, 0, 0, 0, 0, 0, 0, 1, 0]],\n",
              " '<---------------------------->',\n",
              " 'This is incorrect',\n",
              " [[1, 0, 0, 0, 0, 0, 0, 0, 0, 0],\n",
              "  [1, 0, 0, 0, 0, 0, 0, 0, 0, 0],\n",
              "  [1, 0, 0, 0, 0, 0, 0, 0, 0, 0],\n",
              "  [1, 0, 0, 0, 0, 0, 0, 0, 0, 0],\n",
              "  [1, 0, 0, 0, 0, 0, 0, 0, 0, 0],\n",
              "  [1, 0, 0, 0, 0, 0, 0, 0, 0, 0],\n",
              "  [1, 0, 0, 0, 0, 0, 0, 0, 0, 0],\n",
              "  [1, 0, 0, 0, 0, 0, 0, 0, 0, 0],\n",
              "  [1, 0, 0, 0, 0, 0, 0, 0, 0, 0],\n",
              "  [1, 0, 0, 0, 0, 0, 0, 0, 0, 0]])"
            ]
          },
          "metadata": {
            "tags": []
          },
          "execution_count": 6
        }
      ]
    },
    {
      "cell_type": "code",
      "metadata": {
        "colab": {
          "base_uri": "https://localhost:8080/"
        },
        "id": "loose-optimization",
        "outputId": "da6ea58d-54d6-4dc0-c084-3f15e23458b0"
      },
      "source": [
        "# Conversion to Dictionary\n",
        "# Initialize the dict with an empty list for each user id:\n",
        "friendships = {user[\"id\"]: [] for user in users}\n",
        "# And loop over the friendship pairs to populate it:\n",
        "for i, j in friendship_pairs:\n",
        "    friendships[i].append(j) # Add j as a friend of user i\n",
        "    friendships[j].append(i) # Add i as a friend of user j\n",
        "friendships"
      ],
      "id": "loose-optimization",
      "execution_count": null,
      "outputs": [
        {
          "output_type": "execute_result",
          "data": {
            "text/plain": [
              "{0: [1, 2],\n",
              " 1: [0, 2, 3],\n",
              " 2: [0, 1, 3],\n",
              " 3: [1, 2, 4],\n",
              " 4: [3, 5],\n",
              " 5: [4, 6, 7],\n",
              " 6: [5, 8],\n",
              " 7: [5, 8],\n",
              " 8: [6, 7, 9],\n",
              " 9: [8]}"
            ]
          },
          "metadata": {
            "tags": []
          },
          "execution_count": 8
        }
      ]
    },
    {
      "cell_type": "markdown",
      "metadata": {
        "id": "demographic-frederick"
      },
      "source": [
        "### “What’s the average number of connections?”"
      ],
      "id": "demographic-frederick"
    },
    {
      "cell_type": "code",
      "metadata": {
        "colab": {
          "base_uri": "https://localhost:8080/"
        },
        "id": "expressed-celebrity",
        "outputId": "aa020c7a-01cf-405f-8c05-04c8475e10a8"
      },
      "source": [
        "def number_of_friends(user):\n",
        "    # Complete this function\n",
        "    return len(friendships[user])\n",
        "    \n",
        "tot=0\n",
        "for f in friendships:\n",
        "  n=number_of_friends(f)\n",
        "  tot+=n\n",
        "  print(\"Number of friends of\",f,\"are\",n)\n",
        "tot/len(friendships)"
      ],
      "id": "expressed-celebrity",
      "execution_count": null,
      "outputs": [
        {
          "output_type": "stream",
          "text": [
            "Number of friends of 0 are 2\n",
            "Number of friends of 1 are 3\n",
            "Number of friends of 2 are 3\n",
            "Number of friends of 3 are 3\n",
            "Number of friends of 4 are 2\n",
            "Number of friends of 5 are 3\n",
            "Number of friends of 6 are 2\n",
            "Number of friends of 7 are 2\n",
            "Number of friends of 8 are 3\n",
            "Number of friends of 9 are 1\n"
          ],
          "name": "stdout"
        },
        {
          "output_type": "execute_result",
          "data": {
            "text/plain": [
              "2.4"
            ]
          },
          "metadata": {
            "tags": []
          },
          "execution_count": 21
        }
      ]
    },
    {
      "cell_type": "code",
      "metadata": {
        "id": "planned-irish",
        "colab": {
          "base_uri": "https://localhost:8080/"
        },
        "outputId": "a18ac6bf-291f-4b48-a625-321cbe3bc67c"
      },
      "source": [
        "# Compact way of computing the sum of friends for all users\n",
        "total_connections = sum(number_of_friends(f[\"id\"]) for f in users) # 24\n",
        "total_connections"
      ],
      "id": "planned-irish",
      "execution_count": null,
      "outputs": [
        {
          "output_type": "execute_result",
          "data": {
            "text/plain": [
              "24"
            ]
          },
          "metadata": {
            "tags": []
          },
          "execution_count": 22
        }
      ]
    },
    {
      "cell_type": "code",
      "metadata": {
        "id": "signal-change",
        "colab": {
          "base_uri": "https://localhost:8080/"
        },
        "outputId": "53245a7a-dca2-49fd-e457-288cef393b04"
      },
      "source": [
        "# Compute the average\n",
        "num_users =len(friendships)        # length of the users list\n",
        "avg_connections =tot/10    # 24 / 10 == 2.4\n",
        "num_users,avg_connections"
      ],
      "id": "signal-change",
      "execution_count": null,
      "outputs": [
        {
          "output_type": "execute_result",
          "data": {
            "text/plain": [
              "(10, 2.4)"
            ]
          },
          "metadata": {
            "tags": []
          },
          "execution_count": 23
        }
      ]
    },
    {
      "cell_type": "code",
      "metadata": {
        "colab": {
          "base_uri": "https://localhost:8080/"
        },
        "id": "developed-alfred",
        "outputId": "af9d70ae-5118-4b06-a284-ca3eaf9797b2"
      },
      "source": [
        "# Who are the most connected people (with most number of friends?)\n",
        "# Create a list (user_id, number_of_friends).\n",
        "num_friends_by_id =[(f,number_of_friends(f)) for f in friendships]\n",
        "num_friends_by_id"
      ],
      "id": "developed-alfred",
      "execution_count": null,
      "outputs": [
        {
          "output_type": "execute_result",
          "data": {
            "text/plain": [
              "[(0, 2),\n",
              " (1, 3),\n",
              " (2, 3),\n",
              " (3, 3),\n",
              " (4, 2),\n",
              " (5, 3),\n",
              " (6, 2),\n",
              " (7, 2),\n",
              " (8, 3),\n",
              " (9, 1)]"
            ]
          },
          "metadata": {
            "tags": []
          },
          "execution_count": 24
        }
      ]
    },
    {
      "cell_type": "code",
      "metadata": {
        "colab": {
          "base_uri": "https://localhost:8080/"
        },
        "id": "resident-characteristic",
        "outputId": "7bd6a120-8d40-4a8f-9762-eaa861a6d332"
      },
      "source": [
        "num_friends_by_id.sort( # Sort the list\n",
        "key=lambda id_and_friends: id_and_friends[1], # by num_friends\n",
        "reverse=True) # largest to smallest\n",
        "num_friends_by_id"
      ],
      "id": "resident-characteristic",
      "execution_count": null,
      "outputs": [
        {
          "output_type": "execute_result",
          "data": {
            "text/plain": [
              "[(1, 3),\n",
              " (2, 3),\n",
              " (3, 3),\n",
              " (5, 3),\n",
              " (8, 3),\n",
              " (0, 2),\n",
              " (4, 2),\n",
              " (6, 2),\n",
              " (7, 2),\n",
              " (9, 1)]"
            ]
          },
          "metadata": {
            "tags": []
          },
          "execution_count": 25
        }
      ]
    },
    {
      "cell_type": "markdown",
      "metadata": {
        "id": "arabic-mailman"
      },
      "source": [
        "### Friends of Friends"
      ],
      "id": "arabic-mailman"
    },
    {
      "cell_type": "code",
      "metadata": {
        "colab": {
          "base_uri": "https://localhost:8080/"
        },
        "id": "killing-border",
        "outputId": "57ab6d33-e151-4f2c-8902-fbfdb825d8e8"
      },
      "source": [
        "# What is wrong with this function??\n",
        "#-->This function repeats the same users as many times as they occur.\n",
        "\n",
        "print(users)\n",
        "def foaf_ids_bad(user):\n",
        "    \"\"\"foaf is short for \"friend of a friend\" \"\"\"\n",
        "    #print([foaf_id for foaf_id in friendships[user[\"id\"]]]) #prints all friends of user\n",
        "    \n",
        "    \n",
        "    return [foaf_id for friend_id in friendships[user[\"id\"]] for foaf_id in friendships[friend_id]]"
      ],
      "id": "killing-border",
      "execution_count": null,
      "outputs": [
        {
          "output_type": "stream",
          "text": [
            "[{'id': 0, 'name': 'Hero'}, {'id': 1, 'name': 'Dunn'}, {'id': 2, 'name': 'Sue'}, {'id': 3, 'name': 'Chi'}, {'id': 4, 'name': 'Thor'}, {'id': 5, 'name': 'Clive'}, {'id': 6, 'name': 'Hicks'}, {'id': 7, 'name': 'Devin'}, {'id': 8, 'name': 'Kate'}, {'id': 9, 'name': 'Klein'}]\n"
          ],
          "name": "stdout"
        }
      ]
    },
    {
      "cell_type": "code",
      "metadata": {
        "id": "flush-angola"
      },
      "source": [
        "# Can you write a better function to find friends of friends?\n",
        "# can your function also tell us how many different ways someone is a friend of friend?\n",
        "\n",
        "def foaf_ids_bad_updated(user):\n",
        "    \"\"\"foaf is short for \"friend of a friend\" \"\"\"\n",
        "    #print([foaf_id for foaf_id in friendships[user[\"id\"]]]) #prints all friends of user\n",
        "    FOAF=[foaf_id for friend_id in friendships[user[\"id\"]] for foaf_id in friendships[friend_id]]\n",
        "    ss=set(FOAF)\n",
        "    ss.remove(user[\"id\"])\n",
        "    counts={}\n",
        "    for s in ss:\n",
        "      counts[s]=FOAF.count(s)\n",
        "    return ss,counts\n",
        "\n",
        "# the above function returns a set of people who are friend of friend for the passed user.\n",
        "# and it also returns a dictionary with friend of friend as key and the number of ways \n",
        "# a particular user is friend of friend as values."
      ],
      "id": "flush-angola",
      "execution_count": null,
      "outputs": []
    },
    {
      "cell_type": "code",
      "metadata": {
        "colab": {
          "base_uri": "https://localhost:8080/"
        },
        "id": "voluntary-murray",
        "outputId": "4350c87d-0d79-4ad7-b279-29ce3553edfe"
      },
      "source": [
        "print(foaf_ids_bad_updated(users[0]))\n",
        "#print(foaf_ids_bad(users[0])) ---> gives output [0, 2, 3, 0, 1, 3]"
      ],
      "id": "voluntary-murray",
      "execution_count": null,
      "outputs": [
        {
          "output_type": "stream",
          "text": [
            "({1, 2, 3}, {1: 1, 2: 1, 3: 2})\n"
          ],
          "name": "stdout"
        }
      ]
    },
    {
      "cell_type": "code",
      "metadata": {
        "id": "first-ribbon"
      },
      "source": [
        ""
      ],
      "id": "first-ribbon",
      "execution_count": null,
      "outputs": []
    },
    {
      "cell_type": "markdown",
      "metadata": {
        "id": "cross-condition"
      },
      "source": [
        "### Interests of people"
      ],
      "id": "cross-condition"
    },
    {
      "cell_type": "code",
      "metadata": {
        "id": "illegal-ownership"
      },
      "source": [
        "interests = [\n",
        "(0, \"Hadoop\"), (0, \"Big Data\"), (0, \"HBase\"), (0, \"Java\"),\n",
        "(0, \"Spark\"), (0, \"Storm\"), (0, \"Cassandra\"),\n",
        "(1, \"NoSQL\"), (1, \"MongoDB\"), (1, \"Cassandra\"), (1, \"HBase\"),\n",
        "(1, \"Postgres\"), (2, \"Python\"), (2, \"scikit-learn\"), (2, \"scipy\"),\n",
        "(2, \"numpy\"), (2, \"statsmodels\"), (2, \"pandas\"), (3, \"R\"), (3, \"Python\"),\n",
        "(3, \"statistics\"), (3, \"regression\"), (3, \"probability\"),\n",
        "(4, \"machine learning\"), (4, \"regression\"), (4, \"decision trees\"),\n",
        "(4, \"libsvm\"), (5, \"Python\"), (5, \"R\"), (5, \"Java\"), (5, \"C++\"),\n",
        "(5, \"Haskell\"), (5, \"programming languages\"), (6, \"statistics\"),\n",
        "(6, \"probability\"), (6, \"mathematics\"), (6, \"theory\"),\n",
        "(7, \"machine learning\"), (7, \"scikit-learn\"), (7, \"Mahout\"),\n",
        "(7, \"neural networks\"), (8, \"neural networks\"), (8, \"deep learning\"),\n",
        "(8, \"Big Data\"), (8, \"artificial intelligence\"), (9, \"Hadoop\"),\n",
        "(9, \"Java\"), (9, \"MapReduce\"), (9, \"Big Data\")\n",
        "]"
      ],
      "id": "illegal-ownership",
      "execution_count": null,
      "outputs": []
    },
    {
      "cell_type": "code",
      "metadata": {
        "id": "balanced-resolution"
      },
      "source": [
        "# Can you write functions to find people with similar interests?\n",
        "# Who shares most interests with each other?\n",
        "# Are they friends or friends or friends?"
      ],
      "id": "balanced-resolution",
      "execution_count": null,
      "outputs": []
    },
    {
      "cell_type": "code",
      "metadata": {
        "colab": {
          "base_uri": "https://localhost:8080/"
        },
        "id": "painful-smart",
        "outputId": "7909b330-9c51-46f5-b307-8dc82b3769e7"
      },
      "source": [
        "int_dict={i:[] for i in range(10)}\n",
        "for i in interests:\n",
        "  int_dict[i[0]].append(i[1])\n",
        "int_dict\n"
      ],
      "id": "painful-smart",
      "execution_count": null,
      "outputs": [
        {
          "output_type": "execute_result",
          "data": {
            "text/plain": [
              "{0: ['Hadoop', 'Big Data', 'HBase', 'Java', 'Spark', 'Storm', 'Cassandra'],\n",
              " 1: ['NoSQL', 'MongoDB', 'Cassandra', 'HBase', 'Postgres'],\n",
              " 2: ['Python', 'scikit-learn', 'scipy', 'numpy', 'statsmodels', 'pandas'],\n",
              " 3: ['R', 'Python', 'statistics', 'regression', 'probability'],\n",
              " 4: ['machine learning', 'regression', 'decision trees', 'libsvm'],\n",
              " 5: ['Python', 'R', 'Java', 'C++', 'Haskell', 'programming languages'],\n",
              " 6: ['statistics', 'probability', 'mathematics', 'theory'],\n",
              " 7: ['machine learning', 'scikit-learn', 'Mahout', 'neural networks'],\n",
              " 8: ['neural networks',\n",
              "  'deep learning',\n",
              "  'Big Data',\n",
              "  'artificial intelligence'],\n",
              " 9: ['Hadoop', 'Java', 'MapReduce', 'Big Data']}"
            ]
          },
          "metadata": {
            "tags": []
          },
          "execution_count": 34
        }
      ]
    },
    {
      "cell_type": "code",
      "metadata": {
        "id": "d4ltnKpsv4Jt"
      },
      "source": [
        "#function to find number of common interests between two passed arguments\n",
        "def num_of_common(p1,p2):\n",
        "  cnt=0\n",
        "  #cms=[]\n",
        "  for c in int_dict[p1]:\n",
        "    if c in int_dict[p2]:\n",
        "      cnt+=1\n",
        "      #cms.append(c)\n",
        "  #print(\"Common elements between\",p1,\"and\",p2,\"are\",cms)\n",
        "  return cnt"
      ],
      "id": "d4ltnKpsv4Jt",
      "execution_count": null,
      "outputs": []
    },
    {
      "cell_type": "code",
      "metadata": {
        "colab": {
          "base_uri": "https://localhost:8080/"
        },
        "id": "1kw6ZAaxzbE5",
        "outputId": "c3f34301-b7b0-4f76-bf36-927ee0056130"
      },
      "source": [
        "cms=[[0]*10 for i in range(10)]\n",
        "mx=0\n",
        "for i in range(10):\n",
        "  for j in range(10):\n",
        "    if i==j:\n",
        "      cms[i][j]=-1 #because a person will have all interests common with himself\n",
        "    else:\n",
        "      cmo=num_of_common(i,j)\n",
        "      if cmo>=mx and i!=j:\n",
        "        mx=cmo\n",
        "      cms[i][j]=cmo\n",
        "print(mx)\n",
        "cms"
      ],
      "id": "1kw6ZAaxzbE5",
      "execution_count": null,
      "outputs": [
        {
          "output_type": "stream",
          "text": [
            "3\n"
          ],
          "name": "stdout"
        },
        {
          "output_type": "execute_result",
          "data": {
            "text/plain": [
              "[[-1, 2, 0, 0, 0, 1, 0, 0, 1, 3],\n",
              " [2, -1, 0, 0, 0, 0, 0, 0, 0, 0],\n",
              " [0, 0, -1, 1, 0, 1, 0, 1, 0, 0],\n",
              " [0, 0, 1, -1, 1, 2, 2, 0, 0, 0],\n",
              " [0, 0, 0, 1, -1, 0, 0, 1, 0, 0],\n",
              " [1, 0, 1, 2, 0, -1, 0, 0, 0, 1],\n",
              " [0, 0, 0, 2, 0, 0, -1, 0, 0, 0],\n",
              " [0, 0, 1, 0, 1, 0, 0, -1, 1, 0],\n",
              " [1, 0, 0, 0, 0, 0, 0, 1, -1, 1],\n",
              " [3, 0, 0, 0, 0, 1, 0, 0, 1, -1]]"
            ]
          },
          "metadata": {
            "tags": []
          },
          "execution_count": 36
        }
      ]
    },
    {
      "cell_type": "markdown",
      "metadata": {
        "id": "homeless-elimination"
      },
      "source": [
        "# Scipy Sparse Matrices"
      ],
      "id": "homeless-elimination"
    },
    {
      "cell_type": "code",
      "metadata": {
        "id": "cloudy-agency"
      },
      "source": [
        "from scipy import sparse\n",
        "import numpy as np"
      ],
      "id": "cloudy-agency",
      "execution_count": null,
      "outputs": []
    },
    {
      "cell_type": "code",
      "metadata": {
        "colab": {
          "base_uri": "https://localhost:8080/"
        },
        "id": "dental-diversity",
        "outputId": "84fd9689-3e20-4a19-d239-d92be236e54e"
      },
      "source": [
        "# Create a 2D NumPy array with a diagonal of ones, and zeros everywhere else\n",
        "eye = np.eye(4)\n",
        "#numpy.eye(R, C = None, k = 0, dtype = type <‘float’>) \n",
        "'''R : Number of rows\n",
        "C : [optional] Number of columns; By default M = N\n",
        "k : [int, optional, 0 by default]\n",
        "          Diagonal we require; k>0 means diagonal above main diagonal or vice versa.\n",
        "dtype : [optional, float(by Default)] Data type of returned array.  '''\n",
        "\n",
        "print(\"NumPy array:\\n{}\".format(eye))"
      ],
      "id": "dental-diversity",
      "execution_count": null,
      "outputs": [
        {
          "output_type": "stream",
          "text": [
            "NumPy array:\n",
            "[[1. 0. 0. 0.]\n",
            " [0. 1. 0. 0.]\n",
            " [0. 0. 1. 0.]\n",
            " [0. 0. 0. 1.]]\n"
          ],
          "name": "stdout"
        }
      ]
    },
    {
      "cell_type": "code",
      "metadata": {
        "colab": {
          "base_uri": "https://localhost:8080/"
        },
        "id": "prepared-george",
        "outputId": "f1938670-4177-4bd1-f8ed-db568f2b4ac3"
      },
      "source": [
        "# Convert the NumPy array to a SciPy sparse matrix in CSR format\n",
        "# Only the nonzero entries are stored\n",
        "sparse_matrix = sparse.csr_matrix(eye)\n",
        "print(\"\\nSciPy sparse CSR matrix:\\n{}\".format(sparse_matrix))\n"
      ],
      "id": "prepared-george",
      "execution_count": null,
      "outputs": [
        {
          "output_type": "stream",
          "text": [
            "\n",
            "SciPy sparse CSR matrix:\n",
            "  (0, 0)\t1.0\n",
            "  (1, 1)\t1.0\n",
            "  (2, 2)\t1.0\n",
            "  (3, 3)\t1.0\n"
          ],
          "name": "stdout"
        }
      ]
    },
    {
      "cell_type": "code",
      "metadata": {
        "colab": {
          "base_uri": "https://localhost:8080/"
        },
        "id": "maritime-theta",
        "outputId": "4a3e1b87-3e81-4ea5-f235-58506cdb669d"
      },
      "source": [
        "# Converting to sparse representations\n",
        "# More details on : http://www.scipy-lectures.org/\n",
        "data = np.ones(4)\n",
        "print(data)\n",
        "row_indices = np.arange(4)\n",
        "col_indices = np.arange(4)\n",
        "eye_coo = sparse.coo_matrix((data, (row_indices, col_indices)))\n",
        "print(\"COO representation:\\n{}\".format(eye_coo))"
      ],
      "id": "maritime-theta",
      "execution_count": null,
      "outputs": [
        {
          "output_type": "stream",
          "text": [
            "[1. 1. 1. 1.]\n",
            "COO representation:\n",
            "  (0, 0)\t1.0\n",
            "  (1, 1)\t1.0\n",
            "  (2, 2)\t1.0\n",
            "  (3, 3)\t1.0\n"
          ],
          "name": "stdout"
        }
      ]
    },
    {
      "cell_type": "markdown",
      "metadata": {
        "id": "preceding-alliance"
      },
      "source": [
        "# Array Manipulations"
      ],
      "id": "preceding-alliance"
    },
    {
      "cell_type": "code",
      "metadata": {
        "id": "brave-dancing",
        "outputId": "ad58d89b-b7c9-4e64-f7f1-0b1424b2e36b"
      },
      "source": [
        "A = np.random.random((4, 4))\n",
        "A"
      ],
      "id": "brave-dancing",
      "execution_count": null,
      "outputs": [
        {
          "output_type": "execute_result",
          "data": {
            "text/plain": [
              "array([[0.97861834, 0.79915856, 0.46147936, 0.78052918],\n",
              "       [0.11827443, 0.63992102, 0.14335329, 0.94466892],\n",
              "       [0.52184832, 0.41466194, 0.26455561, 0.77423369],\n",
              "       [0.45615033, 0.56843395, 0.0187898 , 0.6176355 ]])"
            ]
          },
          "metadata": {
            "tags": []
          },
          "execution_count": 8
        }
      ]
    },
    {
      "cell_type": "code",
      "metadata": {
        "id": "attached-thirty",
        "outputId": "db7c1008-f90d-45ad-cc4c-ee7e62d9ce49"
      },
      "source": [
        "A < 0.5"
      ],
      "id": "attached-thirty",
      "execution_count": null,
      "outputs": [
        {
          "output_type": "execute_result",
          "data": {
            "text/plain": [
              "array([[False, False,  True, False],\n",
              "       [ True, False,  True, False],\n",
              "       [False,  True,  True, False],\n",
              "       [ True, False,  True, False]])"
            ]
          },
          "metadata": {
            "tags": []
          },
          "execution_count": 9
        }
      ]
    },
    {
      "cell_type": "code",
      "metadata": {
        "id": "modular-grenada",
        "outputId": "6765a1ab-2391-4d5c-e95a-e774acb53532"
      },
      "source": [
        "A[A < 0.5]"
      ],
      "id": "modular-grenada",
      "execution_count": null,
      "outputs": [
        {
          "output_type": "execute_result",
          "data": {
            "text/plain": [
              "array([0.46147936, 0.11827443, 0.14335329, 0.41466194, 0.26455561,\n",
              "       0.45615033, 0.0187898 ])"
            ]
          },
          "metadata": {
            "tags": []
          },
          "execution_count": 10
        }
      ]
    },
    {
      "cell_type": "markdown",
      "metadata": {
        "id": "connected-skiing"
      },
      "source": [
        "### Shape Manipulations"
      ],
      "id": "connected-skiing"
    },
    {
      "cell_type": "code",
      "metadata": {
        "id": "linear-change",
        "outputId": "5f103d36-3d36-4e38-d293-781a8cc09c57"
      },
      "source": [
        "a = np.random.random(12)\n",
        "a"
      ],
      "id": "linear-change",
      "execution_count": null,
      "outputs": [
        {
          "output_type": "execute_result",
          "data": {
            "text/plain": [
              "array([0.31542835, 0.36371077, 0.57019677, 0.43860151, 0.98837384,\n",
              "       0.10204481, 0.20887676, 0.16130952, 0.65310833, 0.2532916 ,\n",
              "       0.46631077, 0.24442559])"
            ]
          },
          "metadata": {
            "tags": []
          },
          "execution_count": 13
        }
      ]
    },
    {
      "cell_type": "code",
      "metadata": {
        "id": "tribal-denver",
        "outputId": "813c309e-2217-4949-fb0d-56ef53a96b26"
      },
      "source": [
        "# Create a new Object\n",
        "A = a.reshape(3, 4)\n",
        "A"
      ],
      "id": "tribal-denver",
      "execution_count": null,
      "outputs": [
        {
          "output_type": "execute_result",
          "data": {
            "text/plain": [
              "array([[0.31542835, 0.36371077, 0.57019677, 0.43860151],\n",
              "       [0.98837384, 0.10204481, 0.20887676, 0.16130952],\n",
              "       [0.65310833, 0.2532916 , 0.46631077, 0.24442559]])"
            ]
          },
          "metadata": {
            "tags": []
          },
          "execution_count": 14
        }
      ]
    },
    {
      "cell_type": "code",
      "metadata": {
        "id": "sensitive-research",
        "outputId": "3a177bbc-5ebc-4dd6-d6eb-b513839ec710"
      },
      "source": [
        "# Change the object directly\n",
        "a.shape = (3, 4)\n",
        "a"
      ],
      "id": "sensitive-research",
      "execution_count": null,
      "outputs": [
        {
          "output_type": "execute_result",
          "data": {
            "text/plain": [
              "array([[0.31542835, 0.36371077, 0.57019677, 0.43860151],\n",
              "       [0.98837384, 0.10204481, 0.20887676, 0.16130952],\n",
              "       [0.65310833, 0.2532916 , 0.46631077, 0.24442559]])"
            ]
          },
          "metadata": {
            "tags": []
          },
          "execution_count": 15
        }
      ]
    },
    {
      "cell_type": "code",
      "metadata": {
        "id": "overall-antigua",
        "outputId": "3dd75da3-442a-48ea-e4c9-852671429d86"
      },
      "source": [
        "# Convert back to one dimension\n",
        "a = a.ravel()\n",
        "a"
      ],
      "id": "overall-antigua",
      "execution_count": null,
      "outputs": [
        {
          "output_type": "execute_result",
          "data": {
            "text/plain": [
              "array([0.31542835, 0.36371077, 0.57019677, 0.43860151, 0.98837384,\n",
              "       0.10204481, 0.20887676, 0.16130952, 0.65310833, 0.2532916 ,\n",
              "       0.46631077, 0.24442559])"
            ]
          },
          "metadata": {
            "tags": []
          },
          "execution_count": 16
        }
      ]
    },
    {
      "cell_type": "code",
      "metadata": {
        "id": "variable-sequence",
        "outputId": "4b228ed8-eecf-4307-fffe-874262f49e60"
      },
      "source": [
        "A.transpose()"
      ],
      "id": "variable-sequence",
      "execution_count": null,
      "outputs": [
        {
          "output_type": "execute_result",
          "data": {
            "text/plain": [
              "array([[0.31542835, 0.98837384, 0.65310833],\n",
              "       [0.36371077, 0.10204481, 0.2532916 ],\n",
              "       [0.57019677, 0.20887676, 0.46631077],\n",
              "       [0.43860151, 0.16130952, 0.24442559]])"
            ]
          },
          "metadata": {
            "tags": []
          },
          "execution_count": 17
        }
      ]
    },
    {
      "cell_type": "markdown",
      "metadata": {
        "id": "quick-member"
      },
      "source": [
        "###  Stacking  and splitting Arrays"
      ],
      "id": "quick-member"
    },
    {
      "cell_type": "code",
      "metadata": {
        "id": "proved-roommate",
        "outputId": "ec1ca06e-1286-4c13-ec65-4da044bca7c3"
      },
      "source": [
        "A = np.ones((3, 3))\n",
        "B = np.zeros((3, 3))\n",
        "np.vstack((A, B))"
      ],
      "id": "proved-roommate",
      "execution_count": null,
      "outputs": [
        {
          "output_type": "execute_result",
          "data": {
            "text/plain": [
              "array([[1., 1., 1.],\n",
              "       [1., 1., 1.],\n",
              "       [1., 1., 1.],\n",
              "       [0., 0., 0.],\n",
              "       [0., 0., 0.],\n",
              "       [0., 0., 0.]])"
            ]
          },
          "metadata": {
            "tags": []
          },
          "execution_count": 18
        }
      ]
    },
    {
      "cell_type": "code",
      "metadata": {
        "id": "annual-swaziland",
        "outputId": "79417521-4f9c-4eb9-8be0-9aec08e3ca1f"
      },
      "source": [
        "np.hstack((A,B))"
      ],
      "id": "annual-swaziland",
      "execution_count": null,
      "outputs": [
        {
          "output_type": "execute_result",
          "data": {
            "text/plain": [
              "array([[1., 1., 1., 0., 0., 0.],\n",
              "       [1., 1., 1., 0., 0., 0.],\n",
              "       [1., 1., 1., 0., 0., 0.]])"
            ]
          },
          "metadata": {
            "tags": []
          },
          "execution_count": 20
        }
      ]
    },
    {
      "cell_type": "code",
      "metadata": {
        "id": "hidden-haven",
        "outputId": "8cfe615e-c6ec-4d42-8693-c12777ac39ae"
      },
      "source": [
        "np.column_stack((A[:,1],B[:,1]))"
      ],
      "id": "hidden-haven",
      "execution_count": null,
      "outputs": [
        {
          "output_type": "execute_result",
          "data": {
            "text/plain": [
              "array([[1., 0.],\n",
              "       [1., 0.],\n",
              "       [1., 0.]])"
            ]
          },
          "metadata": {
            "tags": []
          },
          "execution_count": 23
        }
      ]
    },
    {
      "cell_type": "code",
      "metadata": {
        "id": "temporal-swiss",
        "outputId": "d3cf0168-5203-42e9-cdbd-9b058f4e45fe"
      },
      "source": [
        "np.row_stack((A[1,:],B[0,:]))"
      ],
      "id": "temporal-swiss",
      "execution_count": null,
      "outputs": [
        {
          "output_type": "execute_result",
          "data": {
            "text/plain": [
              "array([[1., 1., 1.],\n",
              "       [0., 0., 0.]])"
            ]
          },
          "metadata": {
            "tags": []
          },
          "execution_count": 24
        }
      ]
    },
    {
      "cell_type": "code",
      "metadata": {
        "id": "infinite-rehabilitation",
        "colab": {
          "base_uri": "https://localhost:8080/"
        },
        "outputId": "d2219276-a79b-439f-f451-cdda47f6a36a"
      },
      "source": [
        "A = np.arange(16).reshape((4, 4))\n",
        "A"
      ],
      "id": "infinite-rehabilitation",
      "execution_count": null,
      "outputs": [
        {
          "output_type": "execute_result",
          "data": {
            "text/plain": [
              "array([[ 0,  1,  2,  3],\n",
              "       [ 4,  5,  6,  7],\n",
              "       [ 8,  9, 10, 11],\n",
              "       [12, 13, 14, 15]])"
            ]
          },
          "metadata": {
            "tags": []
          },
          "execution_count": 47
        }
      ]
    },
    {
      "cell_type": "code",
      "metadata": {
        "id": "coated-surfing",
        "colab": {
          "base_uri": "https://localhost:8080/"
        },
        "outputId": "69307325-defb-4265-83d4-151e86a7cd39"
      },
      "source": [
        "[B,C] = np.hsplit(A, 2)\n",
        "print(B)\n",
        "print(C)"
      ],
      "id": "coated-surfing",
      "execution_count": null,
      "outputs": [
        {
          "output_type": "stream",
          "text": [
            "[[ 0  1]\n",
            " [ 4  5]\n",
            " [ 8  9]\n",
            " [12 13]]\n",
            "[[ 2  3]\n",
            " [ 6  7]\n",
            " [10 11]\n",
            " [14 15]]\n"
          ],
          "name": "stdout"
        }
      ]
    },
    {
      "cell_type": "code",
      "metadata": {
        "id": "former-tribute",
        "colab": {
          "base_uri": "https://localhost:8080/"
        },
        "outputId": "c7440326-8aef-4f67-e4b0-acd882b8f2ed"
      },
      "source": [
        "[B,C] = np.vsplit(A, 2)\n",
        "print(\"B-->\",B)\n",
        "print(\"C-->\",C)"
      ],
      "id": "former-tribute",
      "execution_count": null,
      "outputs": [
        {
          "output_type": "stream",
          "text": [
            "B--> [[0 1 2 3]\n",
            " [4 5 6 7]]\n",
            "C--> [[ 8  9 10 11]\n",
            " [12 13 14 15]]\n"
          ],
          "name": "stdout"
        }
      ]
    },
    {
      "cell_type": "code",
      "metadata": {
        "id": "flexible-detail",
        "colab": {
          "base_uri": "https://localhost:8080/"
        },
        "outputId": "8b47e35e-6061-4b39-f158-923ba9ed4b48"
      },
      "source": [
        "[A1,A2,A3] = np.split(A,[1,1],axis=1)\n",
        "A1,A2,A3"
      ],
      "id": "flexible-detail",
      "execution_count": null,
      "outputs": [
        {
          "output_type": "execute_result",
          "data": {
            "text/plain": [
              "(array([[ 0],\n",
              "        [ 4],\n",
              "        [ 8],\n",
              "        [12]]), array([], shape=(4, 0), dtype=int64), array([[ 1,  2,  3],\n",
              "        [ 5,  6,  7],\n",
              "        [ 9, 10, 11],\n",
              "        [13, 14, 15]]))"
            ]
          },
          "metadata": {
            "tags": []
          },
          "execution_count": 65
        }
      ]
    },
    {
      "cell_type": "code",
      "metadata": {
        "id": "accompanied-plasma",
        "outputId": "5570eac6-db65-4e0d-9660-917c5986147e"
      },
      "source": [
        "A2"
      ],
      "id": "accompanied-plasma",
      "execution_count": null,
      "outputs": [
        {
          "output_type": "execute_result",
          "data": {
            "text/plain": [
              "array([[ 1,  2],\n",
              "       [ 5,  6],\n",
              "       [ 9, 10],\n",
              "       [13, 14]])"
            ]
          },
          "metadata": {
            "tags": []
          },
          "execution_count": 33
        }
      ]
    },
    {
      "cell_type": "code",
      "metadata": {
        "id": "cultural-computer",
        "outputId": "bc89cb7a-0d46-4b95-a4e1-8752f533b457"
      },
      "source": [
        "A3"
      ],
      "id": "cultural-computer",
      "execution_count": null,
      "outputs": [
        {
          "output_type": "execute_result",
          "data": {
            "text/plain": [
              "array([[ 3],\n",
              "       [ 7],\n",
              "       [11],\n",
              "       [15]])"
            ]
          },
          "metadata": {
            "tags": []
          },
          "execution_count": 34
        }
      ]
    },
    {
      "cell_type": "markdown",
      "metadata": {
        "id": "reduced-crisis"
      },
      "source": [
        "## Copies or views of objects"
      ],
      "id": "reduced-crisis"
    },
    {
      "cell_type": "code",
      "metadata": {
        "id": "elementary-afghanistan",
        "outputId": "98365b04-363c-49fa-8db1-0633d438389b"
      },
      "source": [
        "a = np.array([1, 2, 3, 4])\n",
        "a"
      ],
      "id": "elementary-afghanistan",
      "execution_count": null,
      "outputs": [
        {
          "output_type": "execute_result",
          "data": {
            "text/plain": [
              "array([1, 2, 3, 4])"
            ]
          },
          "metadata": {
            "tags": []
          },
          "execution_count": 35
        }
      ]
    },
    {
      "cell_type": "code",
      "metadata": {
        "id": "adverse-essex",
        "outputId": "d04c615f-4400-4e89-a33c-9f97c2100b5e"
      },
      "source": [
        "b = a\n",
        "b"
      ],
      "id": "adverse-essex",
      "execution_count": null,
      "outputs": [
        {
          "output_type": "execute_result",
          "data": {
            "text/plain": [
              "array([1, 2, 3, 4])"
            ]
          },
          "metadata": {
            "tags": []
          },
          "execution_count": 36
        }
      ]
    },
    {
      "cell_type": "code",
      "metadata": {
        "id": "olympic-socket"
      },
      "source": [
        "a[2]=0"
      ],
      "id": "olympic-socket",
      "execution_count": null,
      "outputs": []
    },
    {
      "cell_type": "code",
      "metadata": {
        "id": "distant-greenhouse",
        "outputId": "6d95d3d8-7aa0-4839-9a2b-111a50bce5e1"
      },
      "source": [
        "b"
      ],
      "id": "distant-greenhouse",
      "execution_count": null,
      "outputs": [
        {
          "output_type": "execute_result",
          "data": {
            "text/plain": [
              "array([1, 2, 0, 4])"
            ]
          },
          "metadata": {
            "tags": []
          },
          "execution_count": 38
        }
      ]
    },
    {
      "cell_type": "code",
      "metadata": {
        "id": "signed-exploration",
        "outputId": "77fc67ba-eb3b-434d-8998-3df8e80e09ee"
      },
      "source": [
        "c = a[0:2]\n",
        "c"
      ],
      "id": "signed-exploration",
      "execution_count": null,
      "outputs": [
        {
          "output_type": "execute_result",
          "data": {
            "text/plain": [
              "array([1, 2])"
            ]
          },
          "metadata": {
            "tags": []
          },
          "execution_count": 39
        }
      ]
    },
    {
      "cell_type": "code",
      "metadata": {
        "id": "fixed-consent",
        "outputId": "fdccb1db-ed74-4fe8-bd59-93d5fb591b4a"
      },
      "source": [
        "a[0] = 0\n",
        "c"
      ],
      "id": "fixed-consent",
      "execution_count": null,
      "outputs": [
        {
          "output_type": "execute_result",
          "data": {
            "text/plain": [
              "array([0, 2])"
            ]
          },
          "metadata": {
            "tags": []
          },
          "execution_count": 40
        }
      ]
    },
    {
      "cell_type": "markdown",
      "metadata": {
        "id": "bacterial-grammar"
      },
      "source": [
        "### For create complete copy, use the copy() function"
      ],
      "id": "bacterial-grammar"
    },
    {
      "cell_type": "code",
      "metadata": {
        "id": "helpful-perfume",
        "outputId": "aeada5ca-4307-4757-dfc8-b9cc0d44011e"
      },
      "source": [
        "c = a.copy()\n",
        "c\n",
        "a[0]=5\n",
        "c\n"
      ],
      "id": "helpful-perfume",
      "execution_count": null,
      "outputs": [
        {
          "output_type": "execute_result",
          "data": {
            "text/plain": [
              "array([0, 2, 0, 4])"
            ]
          },
          "metadata": {
            "tags": []
          },
          "execution_count": 41
        }
      ]
    },
    {
      "cell_type": "markdown",
      "metadata": {
        "id": "ambient-madonna"
      },
      "source": [
        "# Vectorized Operations"
      ],
      "id": "ambient-madonna"
    },
    {
      "cell_type": "code",
      "metadata": {
        "id": "biological-kitchen",
        "outputId": "576e7fd8-c937-4d38-cb29-d22dd21fb006"
      },
      "source": [
        "np.random.seed(0)\n",
        "\n",
        "def compute_reciprocals(values):\n",
        "    output = np.empty(len(values))\n",
        "    for i in range(len(values)):\n",
        "        output[i] = 1.0 / values[i]\n",
        "    return output\n",
        "\n",
        "values = np.random.randint(1, 10, size=5)\n",
        "compute_reciprocals(values)"
      ],
      "id": "biological-kitchen",
      "execution_count": null,
      "outputs": [
        {
          "output_type": "execute_result",
          "data": {
            "text/plain": [
              "array([0.16666667, 1.        , 0.25      , 0.25      , 0.125     ])"
            ]
          },
          "metadata": {
            "tags": []
          },
          "execution_count": 2
        }
      ]
    },
    {
      "cell_type": "code",
      "metadata": {
        "id": "expired-queens",
        "outputId": "75324ebf-87e6-4e22-9e93-545318d2326d"
      },
      "source": [
        "big_array = np.random.randint(1, 100, size=1000000)\n",
        "%timeit compute_reciprocals(big_array)"
      ],
      "id": "expired-queens",
      "execution_count": null,
      "outputs": [
        {
          "output_type": "stream",
          "text": [
            "2.3 s ± 105 ms per loop (mean ± std. dev. of 7 runs, 1 loop each)\n"
          ],
          "name": "stdout"
        }
      ]
    },
    {
      "cell_type": "code",
      "metadata": {
        "id": "northern-eligibility",
        "outputId": "0228f5c0-4f66-444b-8b05-64c852f87694"
      },
      "source": [
        "% Vectorized Operations\n",
        "\n",
        "print(compute_reciprocals(values))\n",
        "print(1.0 / values)"
      ],
      "id": "northern-eligibility",
      "execution_count": null,
      "outputs": [
        {
          "output_type": "stream",
          "text": [
            "[0.16666667 1.         0.25       0.25       0.125     ]\n",
            "[0.16666667 1.         0.25       0.25       0.125     ]\n"
          ],
          "name": "stdout"
        }
      ]
    },
    {
      "cell_type": "markdown",
      "metadata": {
        "id": "classified-variance"
      },
      "source": [
        "Computations using vectorization through ufuncs are nearly always more efficient than their counterpart\n",
        "implemented through Python loops, especially as the arrays grow in size. Any time you see such a loop\n",
        "in a Python script, you should consider whether it can be replaced with a vectorized expression."
      ],
      "id": "classified-variance"
    },
    {
      "cell_type": "code",
      "metadata": {
        "id": "following-movie",
        "outputId": "e840af6e-4581-494a-b1f4-90e860bd69e9"
      },
      "source": [
        "%timeit (1.0 / big_array)"
      ],
      "id": "following-movie",
      "execution_count": null,
      "outputs": [
        {
          "output_type": "stream",
          "text": [
            "3.54 ms ± 271 µs per loop (mean ± std. dev. of 7 runs, 100 loops each)\n"
          ],
          "name": "stdout"
        }
      ]
    },
    {
      "cell_type": "markdown",
      "metadata": {
        "id": "chicken-radio"
      },
      "source": [
        "#  Trigonometric Functions"
      ],
      "id": "chicken-radio"
    },
    {
      "cell_type": "code",
      "metadata": {
        "id": "interested-checkout"
      },
      "source": [
        ""
      ],
      "id": "interested-checkout",
      "execution_count": null,
      "outputs": []
    },
    {
      "cell_type": "code",
      "metadata": {
        "id": "assisted-house"
      },
      "source": [
        ""
      ],
      "id": "assisted-house",
      "execution_count": null,
      "outputs": []
    }
  ]
}