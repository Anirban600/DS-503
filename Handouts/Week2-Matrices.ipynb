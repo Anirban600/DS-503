{
  "nbformat": 4,
  "nbformat_minor": 5,
  "metadata": {
    "kernelspec": {
      "display_name": "Python 3",
      "language": "python",
      "name": "python3"
    },
    "language_info": {
      "codemirror_mode": {
        "name": "ipython",
        "version": 3
      },
      "file_extension": ".py",
      "mimetype": "text/x-python",
      "name": "python",
      "nbconvert_exporter": "python",
      "pygments_lexer": "ipython3",
      "version": "3.7.9"
    },
    "colab": {
      "name": "Week2-Matrices.ipynb",
      "provenance": []
    }
  },
  "cells": [
    {
      "cell_type": "markdown",
      "metadata": {
        "id": "preceding-alliance"
      },
      "source": [
        "# Array Manipulations"
      ],
      "id": "preceding-alliance"
    },
    {
      "cell_type": "code",
      "metadata": {
        "colab": {
          "base_uri": "https://localhost:8080/",
          "height": 185
        },
        "id": "brave-dancing",
        "outputId": "1b3624ef-3858-4430-8ca9-f947052aaca9"
      },
      "source": [
        "A = np.random.random((4, 4))\n",
        "A"
      ],
      "id": "brave-dancing",
      "execution_count": 1,
      "outputs": [
        {
          "output_type": "error",
          "ename": "NameError",
          "evalue": "ignored",
          "traceback": [
            "\u001b[0;31m---------------------------------------------------------------------------\u001b[0m",
            "\u001b[0;31mNameError\u001b[0m                                 Traceback (most recent call last)",
            "\u001b[0;32m<ipython-input-1-38dee4063d3e>\u001b[0m in \u001b[0;36m<module>\u001b[0;34m()\u001b[0m\n\u001b[0;32m----> 1\u001b[0;31m \u001b[0mA\u001b[0m \u001b[0;34m=\u001b[0m \u001b[0mnp\u001b[0m\u001b[0;34m.\u001b[0m\u001b[0mrandom\u001b[0m\u001b[0;34m.\u001b[0m\u001b[0mrandom\u001b[0m\u001b[0;34m(\u001b[0m\u001b[0;34m(\u001b[0m\u001b[0;36m4\u001b[0m\u001b[0;34m,\u001b[0m \u001b[0;36m4\u001b[0m\u001b[0;34m)\u001b[0m\u001b[0;34m)\u001b[0m\u001b[0;34m\u001b[0m\u001b[0;34m\u001b[0m\u001b[0m\n\u001b[0m\u001b[1;32m      2\u001b[0m \u001b[0mA\u001b[0m\u001b[0;34m\u001b[0m\u001b[0;34m\u001b[0m\u001b[0m\n",
            "\u001b[0;31mNameError\u001b[0m: name 'np' is not defined"
          ]
        }
      ]
    },
    {
      "cell_type": "code",
      "metadata": {
        "id": "attached-thirty"
      },
      "source": [
        "A < 0.5"
      ],
      "id": "attached-thirty",
      "execution_count": null,
      "outputs": []
    },
    {
      "cell_type": "code",
      "metadata": {
        "id": "modular-grenada"
      },
      "source": [
        "A[A < 0.5]"
      ],
      "id": "modular-grenada",
      "execution_count": null,
      "outputs": []
    },
    {
      "cell_type": "markdown",
      "metadata": {
        "id": "connected-skiing"
      },
      "source": [
        "### Shape Manipulations"
      ],
      "id": "connected-skiing"
    },
    {
      "cell_type": "code",
      "metadata": {
        "id": "linear-change"
      },
      "source": [
        "a = np.random.random(12)\n",
        "a"
      ],
      "id": "linear-change",
      "execution_count": null,
      "outputs": []
    },
    {
      "cell_type": "code",
      "metadata": {
        "id": "tribal-denver"
      },
      "source": [
        "# Create a new Object\n",
        "A = a.reshape(3, 4)\n",
        "A"
      ],
      "id": "tribal-denver",
      "execution_count": null,
      "outputs": []
    },
    {
      "cell_type": "code",
      "metadata": {
        "id": "sensitive-research"
      },
      "source": [
        "# Change the object directly\n",
        "a.shape = (3, 4)\n",
        "a"
      ],
      "id": "sensitive-research",
      "execution_count": null,
      "outputs": []
    },
    {
      "cell_type": "code",
      "metadata": {
        "id": "overall-antigua"
      },
      "source": [
        "# Convert back to one dimension\n",
        "a = a.ravel()\n",
        "a"
      ],
      "id": "overall-antigua",
      "execution_count": null,
      "outputs": []
    },
    {
      "cell_type": "code",
      "metadata": {
        "id": "variable-sequence"
      },
      "source": [
        "A.transpose()"
      ],
      "id": "variable-sequence",
      "execution_count": null,
      "outputs": []
    },
    {
      "cell_type": "markdown",
      "metadata": {
        "id": "quick-member"
      },
      "source": [
        "###  Stacking  and splitting Arrays"
      ],
      "id": "quick-member"
    },
    {
      "cell_type": "code",
      "metadata": {
        "id": "proved-roommate"
      },
      "source": [
        "A = np.ones((3, 3))\n",
        "B = np.zeros((3, 3))\n",
        "np.vstack((A, B))"
      ],
      "id": "proved-roommate",
      "execution_count": null,
      "outputs": []
    },
    {
      "cell_type": "code",
      "metadata": {
        "id": "annual-swaziland"
      },
      "source": [
        "np.hstack((A,B))"
      ],
      "id": "annual-swaziland",
      "execution_count": null,
      "outputs": []
    },
    {
      "cell_type": "code",
      "metadata": {
        "id": "hidden-haven"
      },
      "source": [
        "np.column_stack((A[:,1],B[:,1]))"
      ],
      "id": "hidden-haven",
      "execution_count": null,
      "outputs": []
    },
    {
      "cell_type": "code",
      "metadata": {
        "id": "temporal-swiss"
      },
      "source": [
        "np.row_stack((A[1,:],B[0,:]))"
      ],
      "id": "temporal-swiss",
      "execution_count": null,
      "outputs": []
    },
    {
      "cell_type": "code",
      "metadata": {
        "id": "infinite-rehabilitation"
      },
      "source": [
        "A = np.arange(16).reshape((4, 4))\n",
        "A"
      ],
      "id": "infinite-rehabilitation",
      "execution_count": null,
      "outputs": []
    },
    {
      "cell_type": "code",
      "metadata": {
        "id": "coated-surfing"
      },
      "source": [
        "[B,C] = np.hsplit(A, 2)\n",
        "B"
      ],
      "id": "coated-surfing",
      "execution_count": null,
      "outputs": []
    },
    {
      "cell_type": "code",
      "metadata": {
        "id": "former-tribute"
      },
      "source": [
        "[B,C] = np.vsplit(A, 2)\n",
        "C"
      ],
      "id": "former-tribute",
      "execution_count": null,
      "outputs": []
    },
    {
      "cell_type": "code",
      "metadata": {
        "id": "flexible-detail"
      },
      "source": [
        "[A1,A2,A3] = np.split(A,[1,3],axis=1)\n",
        "A1"
      ],
      "id": "flexible-detail",
      "execution_count": null,
      "outputs": []
    },
    {
      "cell_type": "code",
      "metadata": {
        "id": "accompanied-plasma"
      },
      "source": [
        "A2"
      ],
      "id": "accompanied-plasma",
      "execution_count": null,
      "outputs": []
    },
    {
      "cell_type": "code",
      "metadata": {
        "id": "cultural-computer"
      },
      "source": [
        "A3"
      ],
      "id": "cultural-computer",
      "execution_count": null,
      "outputs": []
    },
    {
      "cell_type": "markdown",
      "metadata": {
        "id": "reduced-crisis"
      },
      "source": [
        "## Copies or views of objects"
      ],
      "id": "reduced-crisis"
    },
    {
      "cell_type": "code",
      "metadata": {
        "id": "elementary-afghanistan"
      },
      "source": [
        "a = np.array([1, 2, 3, 4])\n",
        "a"
      ],
      "id": "elementary-afghanistan",
      "execution_count": null,
      "outputs": []
    },
    {
      "cell_type": "code",
      "metadata": {
        "id": "adverse-essex"
      },
      "source": [
        "b = a\n",
        "b"
      ],
      "id": "adverse-essex",
      "execution_count": null,
      "outputs": []
    },
    {
      "cell_type": "code",
      "metadata": {
        "id": "olympic-socket"
      },
      "source": [
        "a[2]=0"
      ],
      "id": "olympic-socket",
      "execution_count": null,
      "outputs": []
    },
    {
      "cell_type": "code",
      "metadata": {
        "id": "distant-greenhouse"
      },
      "source": [
        "b"
      ],
      "id": "distant-greenhouse",
      "execution_count": null,
      "outputs": []
    },
    {
      "cell_type": "code",
      "metadata": {
        "id": "signed-exploration"
      },
      "source": [
        "c = a[0:2]\n",
        "c"
      ],
      "id": "signed-exploration",
      "execution_count": null,
      "outputs": []
    },
    {
      "cell_type": "code",
      "metadata": {
        "id": "fixed-consent"
      },
      "source": [
        "a[0] = 0\n",
        "c"
      ],
      "id": "fixed-consent",
      "execution_count": null,
      "outputs": []
    },
    {
      "cell_type": "markdown",
      "metadata": {
        "id": "bacterial-grammar"
      },
      "source": [
        "### For create complete copy, use the copy() function"
      ],
      "id": "bacterial-grammar"
    },
    {
      "cell_type": "code",
      "metadata": {
        "id": "helpful-perfume"
      },
      "source": [
        "c = a.copy()\n",
        "c\n",
        "a[0]=5\n",
        "c\n"
      ],
      "id": "helpful-perfume",
      "execution_count": null,
      "outputs": []
    },
    {
      "cell_type": "markdown",
      "metadata": {
        "id": "attempted-stress"
      },
      "source": [
        "## Friendship Data"
      ],
      "id": "attempted-stress"
    },
    {
      "cell_type": "code",
      "metadata": {
        "id": "stunning-strip"
      },
      "source": [
        "users = [\n",
        "{ \"id\": 0, \"name\": \"Hero\" },\n",
        "{ \"id\": 1, \"name\": \"Dunn\" },\n",
        "{ \"id\": 2, \"name\": \"Sue\" },\n",
        "{ \"id\": 3, \"name\": \"Chi\" },\n",
        "{ \"id\": 4, \"name\": \"Thor\" },\n",
        "{ \"id\": 5, \"name\": \"Clive\" },\n",
        "{ \"id\": 6, \"name\": \"Hicks\" },\n",
        "{ \"id\": 7, \"name\": \"Devin\" },\n",
        "{ \"id\": 8, \"name\": \"Kate\" },\n",
        "{ \"id\": 9, \"name\": \"Klein\" }\n",
        "]"
      ],
      "id": "stunning-strip",
      "execution_count": null,
      "outputs": []
    },
    {
      "cell_type": "code",
      "metadata": {
        "id": "severe-yahoo"
      },
      "source": [
        "friendship_pairs = [(0, 1), (0, 2), (1, 2), (1, 3), (2, 3), (3, 4), (4, 5), (5, 6), (5, 7), (6, 8), (7, 8), (8, 9)]"
      ],
      "id": "severe-yahoo",
      "execution_count": null,
      "outputs": []
    },
    {
      "cell_type": "markdown",
      "metadata": {
        "id": "running-pearl"
      },
      "source": [
        "### Exercise: Visualize this as a graph using Networkx"
      ],
      "id": "running-pearl"
    },
    {
      "cell_type": "code",
      "metadata": {
        "id": "criminal-knock"
      },
      "source": [
        "# For visualization learn to use Networkx\n",
        "# Please edit the code below appropriately"
      ],
      "id": "criminal-knock",
      "execution_count": null,
      "outputs": []
    },
    {
      "cell_type": "code",
      "metadata": {
        "id": "alternative-trainer"
      },
      "source": [
        "import networkx as nx\n",
        "import matplotlib.pyplot as plt\n",
        "\n",
        "G = nx.Graph()\n",
        "G.add_edge(1, 2)\n",
        "G.add_edge(1, 3)\n",
        "G.add_edge(1, 5)\n",
        "G.add_edge(2, 3)\n",
        "G.add_edge(3, 4)\n",
        "G.add_edge(4, 5)\n",
        "\n",
        "# explicitly set positions\n",
        "pos = {1: (0, 0), 2: (-1, 0.3), 3: (2, 0.17), 4: (4, 0.255), 5: (5, 0.03)}\n",
        "\n",
        "options = {\n",
        "    \"font_size\": 36,\n",
        "    \"node_size\": 3000,\n",
        "    \"node_color\": \"white\",\n",
        "    \"edgecolors\": \"black\",\n",
        "    \"linewidths\": 5,\n",
        "    \"width\": 5,\n",
        "}\n",
        "nx.draw_networkx(G, pos, **options)\n",
        "\n",
        "# Set margins for the axes so that nodes aren't clipped\n",
        "ax = plt.gca()\n",
        "ax.margins(0.20)\n",
        "plt.axis(\"off\")\n",
        "plt.show()"
      ],
      "id": "alternative-trainer",
      "execution_count": null,
      "outputs": []
    },
    {
      "cell_type": "code",
      "metadata": {
        "id": "communist-directory"
      },
      "source": [
        "# Give colors and labels to the nodes\n",
        "# https://networkx.org/documentation/latest/auto_examples/drawing/plot_labels_and_colors.html\n"
      ],
      "id": "communist-directory",
      "execution_count": null,
      "outputs": []
    },
    {
      "cell_type": "markdown",
      "metadata": {
        "id": "hispanic-traveler"
      },
      "source": [
        "### Convert this in the form of a matrix with (i,j) being 1 if i is a friend of j else 0"
      ],
      "id": "hispanic-traveler"
    },
    {
      "cell_type": "code",
      "metadata": {
        "id": "contrary-privacy"
      },
      "source": [
        ""
      ],
      "id": "contrary-privacy",
      "execution_count": null,
      "outputs": []
    },
    {
      "cell_type": "code",
      "metadata": {
        "id": "loose-optimization"
      },
      "source": [
        "# Conversion to Dictionary\n",
        "# Initialize the dict with an empty list for each user id:\n",
        "friendships = {user[\"id\"]: [] for user in users}\n",
        "# And loop over the friendship pairs to populate it:\n",
        "for i, j in friendship_pairs:\n",
        "    friendships[i].append(j) # Add j as a friend of user i\n",
        "    friendships[j].append(i) # Add i as a friend of user j"
      ],
      "id": "loose-optimization",
      "execution_count": null,
      "outputs": []
    },
    {
      "cell_type": "markdown",
      "metadata": {
        "id": "demographic-frederick"
      },
      "source": [
        "### “What’s the average number of connections?”"
      ],
      "id": "demographic-frederick"
    },
    {
      "cell_type": "code",
      "metadata": {
        "id": "expressed-celebrity"
      },
      "source": [
        "def number_of_friends(user):\n",
        "    # Complete this function\n",
        "    "
      ],
      "id": "expressed-celebrity",
      "execution_count": null,
      "outputs": []
    },
    {
      "cell_type": "code",
      "metadata": {
        "id": "planned-irish"
      },
      "source": [
        "# Compact way of computing the sum of friends for all users\n",
        "total_connections = sum(number_of_friends(user)\n",
        "                        for user in users) # 24"
      ],
      "id": "planned-irish",
      "execution_count": null,
      "outputs": []
    },
    {
      "cell_type": "code",
      "metadata": {
        "id": "signal-change"
      },
      "source": [
        "# Compute the average\n",
        "num_users =          # length of the users list\n",
        "avg_connections =    # 24 / 10 == 2.4"
      ],
      "id": "signal-change",
      "execution_count": null,
      "outputs": []
    },
    {
      "cell_type": "code",
      "metadata": {
        "id": "developed-alfred"
      },
      "source": [
        "# Who are the most connected people (with most number of friends?)\n",
        "\n",
        "# Create a list (user_id, number_of_friends).\n",
        "num_friends_by_id ="
      ],
      "id": "developed-alfred",
      "execution_count": null,
      "outputs": []
    },
    {
      "cell_type": "code",
      "metadata": {
        "id": "resident-characteristic"
      },
      "source": [
        "num_friends_by_id.sort( # Sort the list\n",
        "key=lambda id_and_friends: id_and_friends[1], # by num_friends\n",
        "reverse=True) # largest to smallest"
      ],
      "id": "resident-characteristic",
      "execution_count": null,
      "outputs": []
    },
    {
      "cell_type": "markdown",
      "metadata": {
        "id": "arabic-mailman"
      },
      "source": [
        "### Friends of Friends"
      ],
      "id": "arabic-mailman"
    },
    {
      "cell_type": "code",
      "metadata": {
        "id": "killing-border"
      },
      "source": [
        "# What is wrong with this function??\n",
        "\n",
        "def foaf_ids_bad(user):\n",
        "    \"\"\"foaf is short for \"friend of a friend\" \"\"\"\n",
        "    return [foaf_id\n",
        "    for friend_id in friendships[user[\"id\"]]\n",
        "    for foaf_id in friendships[friend_id]]"
      ],
      "id": "killing-border",
      "execution_count": null,
      "outputs": []
    },
    {
      "cell_type": "code",
      "metadata": {
        "id": "flush-angola"
      },
      "source": [
        "# Can you write a better function to find friends of friends?\n",
        "# can your function also tell us how many different ways someone is a friend of friend?\n",
        "\n",
        "\n"
      ],
      "id": "flush-angola",
      "execution_count": null,
      "outputs": []
    },
    {
      "cell_type": "code",
      "metadata": {
        "id": "voluntary-murray"
      },
      "source": [
        ""
      ],
      "id": "voluntary-murray",
      "execution_count": null,
      "outputs": []
    },
    {
      "cell_type": "code",
      "metadata": {
        "id": "first-ribbon"
      },
      "source": [
        ""
      ],
      "id": "first-ribbon",
      "execution_count": null,
      "outputs": []
    },
    {
      "cell_type": "markdown",
      "metadata": {
        "id": "cross-condition"
      },
      "source": [
        "### Interests of people"
      ],
      "id": "cross-condition"
    },
    {
      "cell_type": "code",
      "metadata": {
        "id": "illegal-ownership"
      },
      "source": [
        "interests = [\n",
        "(0, \"Hadoop\"), (0, \"Big Data\"), (0, \"HBase\"), (0, \"Java\"),\n",
        "(0, \"Spark\"), (0, \"Storm\"), (0, \"Cassandra\"),\n",
        "(1, \"NoSQL\"), (1, \"MongoDB\"), (1, \"Cassandra\"), (1, \"HBase\"),\n",
        "(1, \"Postgres\"), (2, \"Python\"), (2, \"scikit-learn\"), (2, \"scipy\"),\n",
        "(2, \"numpy\"), (2, \"statsmodels\"), (2, \"pandas\"), (3, \"R\"), (3, \"Python\"),\n",
        "(3, \"statistics\"), (3, \"regression\"), (3, \"probability\"),\n",
        "(4, \"machine learning\"), (4, \"regression\"), (4, \"decision trees\"),\n",
        "(4, \"libsvm\"), (5, \"Python\"), (5, \"R\"), (5, \"Java\"), (5, \"C++\"),\n",
        "(5, \"Haskell\"), (5, \"programming languages\"), (6, \"statistics\"),\n",
        "(6, \"probability\"), (6, \"mathematics\"), (6, \"theory\"),\n",
        "(7, \"machine learning\"), (7, \"scikit-learn\"), (7, \"Mahout\"),\n",
        "(7, \"neural networks\"), (8, \"neural networks\"), (8, \"deep learning\"),\n",
        "(8, \"Big Data\"), (8, \"artificial intelligence\"), (9, \"Hadoop\"),\n",
        "(9, \"Java\"), (9, \"MapReduce\"), (9, \"Big Data\")\n",
        "]"
      ],
      "id": "illegal-ownership",
      "execution_count": null,
      "outputs": []
    },
    {
      "cell_type": "code",
      "metadata": {
        "id": "balanced-resolution"
      },
      "source": [
        "# Can you write functions to find people with similar interests?\n",
        "# Who shares most interests with each other?\n",
        "# Are they friends or friends or friends?"
      ],
      "id": "balanced-resolution",
      "execution_count": null,
      "outputs": []
    },
    {
      "cell_type": "code",
      "metadata": {
        "id": "painful-smart"
      },
      "source": [
        ""
      ],
      "id": "painful-smart",
      "execution_count": null,
      "outputs": []
    },
    {
      "cell_type": "markdown",
      "metadata": {
        "id": "homeless-elimination"
      },
      "source": [
        "# Scipy Sparse Matrices"
      ],
      "id": "homeless-elimination"
    },
    {
      "cell_type": "code",
      "metadata": {
        "id": "cloudy-agency"
      },
      "source": [
        "from scipy import sparse\n",
        "import numpy as np"
      ],
      "id": "cloudy-agency",
      "execution_count": null,
      "outputs": []
    },
    {
      "cell_type": "code",
      "metadata": {
        "id": "dental-diversity",
        "outputId": "688335a9-1281-4201-b767-9c9f761e62a2"
      },
      "source": [
        "# Create a 2D NumPy array with a diagonal of ones, and zeros everywhere else\n",
        "eye = np.eye(4)\n",
        "print(\"NumPy array:\\n{}\".format(eye))"
      ],
      "id": "dental-diversity",
      "execution_count": null,
      "outputs": [
        {
          "output_type": "stream",
          "text": [
            "NumPy array:\n",
            "[[1. 0. 0. 0.]\n",
            " [0. 1. 0. 0.]\n",
            " [0. 0. 1. 0.]\n",
            " [0. 0. 0. 1.]]\n"
          ],
          "name": "stdout"
        }
      ]
    },
    {
      "cell_type": "code",
      "metadata": {
        "id": "prepared-george",
        "outputId": "7a22f9fd-ee52-4685-97ea-44302e4757aa"
      },
      "source": [
        "# Convert the NumPy array to a SciPy sparse matrix in CSR format\n",
        "# Only the nonzero entries are stored\n",
        "sparse_matrix = sparse.csr_matrix(eye)\n",
        "print(\"\\nSciPy sparse CSR matrix:\\n{}\".format(sparse_matrix))"
      ],
      "id": "prepared-george",
      "execution_count": null,
      "outputs": [
        {
          "output_type": "stream",
          "text": [
            "\n",
            "SciPy sparse CSR matrix:\n",
            "  (0, 0)\t1.0\n",
            "  (1, 1)\t1.0\n",
            "  (2, 2)\t1.0\n",
            "  (3, 3)\t1.0\n"
          ],
          "name": "stdout"
        }
      ]
    },
    {
      "cell_type": "code",
      "metadata": {
        "id": "maritime-theta",
        "outputId": "6976cfac-ea02-4cf7-aae3-3f5e1ea907c7"
      },
      "source": [
        "# Converting to sparse representations\n",
        "# More details on : http://www.scipy-lectures.org/\n",
        "data = np.ones(4)\n",
        "row_indices = np.arange(4)\n",
        "col_indices = np.arange(4)\n",
        "eye_coo = sparse.coo_matrix((data, (row_indices, col_indices)))\n",
        "print(\"COO representation:\\n{}\".format(eye_coo))"
      ],
      "id": "maritime-theta",
      "execution_count": null,
      "outputs": [
        {
          "output_type": "stream",
          "text": [
            "COO representation:\n",
            "  (0, 0)\t1.0\n",
            "  (1, 1)\t1.0\n",
            "  (2, 2)\t1.0\n",
            "  (3, 3)\t1.0\n"
          ],
          "name": "stdout"
        }
      ]
    },
    {
      "cell_type": "markdown",
      "metadata": {
        "id": "ambient-madonna"
      },
      "source": [
        "# Vectorized Operations"
      ],
      "id": "ambient-madonna"
    },
    {
      "cell_type": "code",
      "metadata": {
        "id": "biological-kitchen",
        "outputId": "71298487-7a1e-420d-fcf7-cb6f52c418b5"
      },
      "source": [
        "np.random.seed(0)\n",
        "\n",
        "def compute_reciprocals(values):\n",
        "    output = np.empty(len(values))\n",
        "    for i in range(len(values)):\n",
        "        output[i] = 1.0 / values[i]\n",
        "    return output\n",
        "\n",
        "values = np.random.randint(1, 10, size=5)\n",
        "compute_reciprocals(values)"
      ],
      "id": "biological-kitchen",
      "execution_count": null,
      "outputs": [
        {
          "output_type": "execute_result",
          "data": {
            "text/plain": [
              "array([0.16666667, 1.        , 0.25      , 0.25      , 0.125     ])"
            ]
          },
          "metadata": {
            "tags": []
          },
          "execution_count": 2
        }
      ]
    },
    {
      "cell_type": "code",
      "metadata": {
        "id": "expired-queens",
        "outputId": "fcf30ac3-530e-47c0-bde2-b5527a35073d"
      },
      "source": [
        "big_array = np.random.randint(1, 100, size=1000000)\n",
        "%timeit compute_reciprocals(big_array)"
      ],
      "id": "expired-queens",
      "execution_count": null,
      "outputs": [
        {
          "output_type": "stream",
          "text": [
            "2.3 s ± 105 ms per loop (mean ± std. dev. of 7 runs, 1 loop each)\n"
          ],
          "name": "stdout"
        }
      ]
    },
    {
      "cell_type": "code",
      "metadata": {
        "id": "northern-eligibility",
        "outputId": "077465e6-4d5f-4bdd-9e9d-11c404d75fbb"
      },
      "source": [
        "% Vectorized Operations\n",
        "\n",
        "print(compute_reciprocals(values))\n",
        "print(1.0 / values)"
      ],
      "id": "northern-eligibility",
      "execution_count": null,
      "outputs": [
        {
          "output_type": "stream",
          "text": [
            "[0.16666667 1.         0.25       0.25       0.125     ]\n",
            "[0.16666667 1.         0.25       0.25       0.125     ]\n"
          ],
          "name": "stdout"
        }
      ]
    },
    {
      "cell_type": "markdown",
      "metadata": {
        "id": "classified-variance"
      },
      "source": [
        "Computations using vectorization through ufuncs are nearly always more efficient than their counterpart\n",
        "implemented through Python loops, especially as the arrays grow in size. Any time you see such a loop\n",
        "in a Python script, you should consider whether it can be replaced with a vectorized expression."
      ],
      "id": "classified-variance"
    },
    {
      "cell_type": "code",
      "metadata": {
        "id": "following-movie",
        "outputId": "d6fb9920-6c47-4a1f-e188-a7399faa2179"
      },
      "source": [
        "%timeit (1.0 / big_array)"
      ],
      "id": "following-movie",
      "execution_count": null,
      "outputs": [
        {
          "output_type": "stream",
          "text": [
            "3.54 ms ± 271 µs per loop (mean ± std. dev. of 7 runs, 100 loops each)\n"
          ],
          "name": "stdout"
        }
      ]
    },
    {
      "cell_type": "markdown",
      "metadata": {
        "id": "chicken-radio"
      },
      "source": [
        "#  Trigonometric Functions"
      ],
      "id": "chicken-radio"
    },
    {
      "cell_type": "code",
      "metadata": {
        "id": "interested-checkout"
      },
      "source": [
        ""
      ],
      "id": "interested-checkout",
      "execution_count": null,
      "outputs": []
    },
    {
      "cell_type": "code",
      "metadata": {
        "id": "assisted-house"
      },
      "source": [
        ""
      ],
      "id": "assisted-house",
      "execution_count": null,
      "outputs": []
    }
  ]
}