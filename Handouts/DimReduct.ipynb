{
 "cells": [
  {
   "cell_type": "code",
   "execution_count": 1,
   "metadata": {},
   "outputs": [],
   "source": [
    "import numpy as np\n",
    "import pandas as pd\n",
    "import matplotlib as plt"
   ]
  },
  {
   "cell_type": "code",
   "execution_count": 6,
   "metadata": {},
   "outputs": [],
   "source": [
    "A=pd.DataFrame([[1, 1, 1, 0, 0],[3, 3, 3, 0, 0],[4,4, 4, 0, 0],[5, 5, 5, 0, 0],[0, 2, 0, 4, 4],[0, 0, 0, 5, 5],[0, 1, 0, 2, 2]])"
   ]
  },
  {
   "cell_type": "code",
   "execution_count": 7,
   "metadata": {},
   "outputs": [
    {
     "data": {
      "text/html": [
       "<div>\n",
       "<style scoped>\n",
       "    .dataframe tbody tr th:only-of-type {\n",
       "        vertical-align: middle;\n",
       "    }\n",
       "\n",
       "    .dataframe tbody tr th {\n",
       "        vertical-align: top;\n",
       "    }\n",
       "\n",
       "    .dataframe thead th {\n",
       "        text-align: right;\n",
       "    }\n",
       "</style>\n",
       "<table border=\"1\" class=\"dataframe\">\n",
       "  <thead>\n",
       "    <tr style=\"text-align: right;\">\n",
       "      <th></th>\n",
       "      <th>0</th>\n",
       "      <th>1</th>\n",
       "      <th>2</th>\n",
       "      <th>3</th>\n",
       "      <th>4</th>\n",
       "    </tr>\n",
       "  </thead>\n",
       "  <tbody>\n",
       "    <tr>\n",
       "      <th>0</th>\n",
       "      <td>1</td>\n",
       "      <td>1</td>\n",
       "      <td>1</td>\n",
       "      <td>0</td>\n",
       "      <td>0</td>\n",
       "    </tr>\n",
       "    <tr>\n",
       "      <th>1</th>\n",
       "      <td>3</td>\n",
       "      <td>3</td>\n",
       "      <td>3</td>\n",
       "      <td>0</td>\n",
       "      <td>0</td>\n",
       "    </tr>\n",
       "    <tr>\n",
       "      <th>2</th>\n",
       "      <td>4</td>\n",
       "      <td>4</td>\n",
       "      <td>4</td>\n",
       "      <td>0</td>\n",
       "      <td>0</td>\n",
       "    </tr>\n",
       "    <tr>\n",
       "      <th>3</th>\n",
       "      <td>5</td>\n",
       "      <td>5</td>\n",
       "      <td>5</td>\n",
       "      <td>0</td>\n",
       "      <td>0</td>\n",
       "    </tr>\n",
       "    <tr>\n",
       "      <th>4</th>\n",
       "      <td>0</td>\n",
       "      <td>2</td>\n",
       "      <td>0</td>\n",
       "      <td>4</td>\n",
       "      <td>4</td>\n",
       "    </tr>\n",
       "    <tr>\n",
       "      <th>5</th>\n",
       "      <td>0</td>\n",
       "      <td>0</td>\n",
       "      <td>0</td>\n",
       "      <td>5</td>\n",
       "      <td>5</td>\n",
       "    </tr>\n",
       "    <tr>\n",
       "      <th>6</th>\n",
       "      <td>0</td>\n",
       "      <td>1</td>\n",
       "      <td>0</td>\n",
       "      <td>2</td>\n",
       "      <td>2</td>\n",
       "    </tr>\n",
       "  </tbody>\n",
       "</table>\n",
       "</div>"
      ],
      "text/plain": [
       "   0  1  2  3  4\n",
       "0  1  1  1  0  0\n",
       "1  3  3  3  0  0\n",
       "2  4  4  4  0  0\n",
       "3  5  5  5  0  0\n",
       "4  0  2  0  4  4\n",
       "5  0  0  0  5  5\n",
       "6  0  1  0  2  2"
      ]
     },
     "execution_count": 7,
     "metadata": {},
     "output_type": "execute_result"
    }
   ],
   "source": [
    "A"
   ]
  },
  {
   "cell_type": "code",
   "execution_count": 12,
   "metadata": {},
   "outputs": [
    {
     "name": "stdout",
     "output_type": "stream",
     "text": [
      "[12.48101469  9.50861406  1.34555971]\n"
     ]
    }
   ],
   "source": [
    "from sklearn.decomposition import TruncatedSVD\n",
    "svd = TruncatedSVD(n_components=3, n_iter=100, random_state=42)\n",
    "svd.fit(A)\n",
    "print(svd.singular_values_)"
   ]
  },
  {
   "cell_type": "code",
   "execution_count": 13,
   "metadata": {},
   "outputs": [],
   "source": [
    "u, s, vh = np.linalg.svd(A, full_matrices=True)"
   ]
  },
  {
   "cell_type": "code",
   "execution_count": 40,
   "metadata": {},
   "outputs": [],
   "source": [
    "np.set_printoptions(formatter={'float': '{:.2f}'.format})"
   ]
  },
  {
   "cell_type": "code",
   "execution_count": 41,
   "metadata": {},
   "outputs": [
    {
     "name": "stdout",
     "output_type": "stream",
     "text": [
      "[12.48 9.51 1.35 0.00 0.00]\n"
     ]
    }
   ],
   "source": [
    "print(s)"
   ]
  },
  {
   "cell_type": "code",
   "execution_count": 42,
   "metadata": {},
   "outputs": [
    {
     "name": "stdout",
     "output_type": "stream",
     "text": [
      "[[-0.14 0.02 0.01]\n",
      " [-0.41 0.07 0.03]\n",
      " [-0.55 0.09 0.04]\n",
      " [-0.69 0.12 0.05]\n",
      " [-0.15 -0.59 -0.65]\n",
      " [-0.07 -0.73 0.68]\n",
      " [-0.08 -0.30 -0.33]]\n"
     ]
    }
   ],
   "source": [
    "print(u[:,[0,1,2]])"
   ]
  },
  {
   "cell_type": "code",
   "execution_count": 43,
   "metadata": {},
   "outputs": [
    {
     "data": {
      "text/plain": [
       "array([[-0.56, -0.59, -0.56, -0.09, -0.09],\n",
       "       [0.13, -0.03, 0.13, -0.70, -0.70],\n",
       "       [0.41, -0.80, 0.41, 0.09, 0.09]])"
      ]
     },
     "execution_count": 43,
     "metadata": {},
     "output_type": "execute_result"
    }
   ],
   "source": [
    "vh[[0,1,2],:]"
   ]
  },
  {
   "cell_type": "code",
   "execution_count": 54,
   "metadata": {},
   "outputs": [
    {
     "name": "stdout",
     "output_type": "stream",
     "text": [
      "[[0.97 1.02 0.97 0.15 0.15]\n",
      " [2.90 3.05 2.90 0.46 0.46]\n",
      " [3.86 4.07 3.86 0.62 0.62]\n",
      " [4.83 5.09 4.83 0.77 0.77]\n",
      " [1.07 1.13 1.07 0.17 0.17]\n",
      " [0.51 0.53 0.51 0.08 0.08]\n",
      " [0.54 0.57 0.54 0.09 0.09]]\n"
     ]
    }
   ],
   "source": [
    "A1= np.dot(np.dot(u[:,[0]],s[0]),vh[[0],:])\n",
    "print(A1)"
   ]
  },
  {
   "cell_type": "code",
   "execution_count": 55,
   "metadata": {},
   "outputs": [
    {
     "name": "stdout",
     "output_type": "stream",
     "text": [
      "[[0.03 -0.01 0.03 -0.16 -0.16]\n",
      " [0.09 -0.02 0.09 -0.47 -0.47]\n",
      " [0.11 -0.03 0.11 -0.62 -0.62]\n",
      " [0.14 -0.03 0.14 -0.78 -0.78]\n",
      " [-0.71 0.16 -0.71 3.91 3.91]\n",
      " [-0.88 0.20 -0.88 4.84 4.84]\n",
      " [-0.36 0.08 -0.36 1.95 1.95]]\n"
     ]
    }
   ],
   "source": [
    "A2= np.dot(np.dot(u[:,[1]],s[1]),vh[[1],:])\n",
    "print(A2)"
   ]
  },
  {
   "cell_type": "code",
   "execution_count": 70,
   "metadata": {},
   "outputs": [
    {
     "name": "stdout",
     "output_type": "stream",
     "text": [
      "[[0.01 -0.01 0.01 0.00 0.00]\n",
      " [0.02 -0.04 0.02 0.00 0.00]\n",
      " [0.02 -0.05 0.02 0.01 0.01]\n",
      " [0.03 -0.06 0.03 0.01 0.01]\n",
      " [-0.36 0.71 -0.36 -0.08 -0.08]\n",
      " [0.37 -0.73 0.37 0.08 0.08]\n",
      " [-0.18 0.35 -0.18 -0.04 -0.04]]\n"
     ]
    }
   ],
   "source": [
    "A3= np.dot(np.dot(u[:,[2]],s[2]),vh[[2],:])\n",
    "print(A3)"
   ]
  },
  {
   "cell_type": "code",
   "execution_count": 71,
   "metadata": {},
   "outputs": [
    {
     "data": {
      "text/html": [
       "<div>\n",
       "<style scoped>\n",
       "    .dataframe tbody tr th:only-of-type {\n",
       "        vertical-align: middle;\n",
       "    }\n",
       "\n",
       "    .dataframe tbody tr th {\n",
       "        vertical-align: top;\n",
       "    }\n",
       "\n",
       "    .dataframe thead th {\n",
       "        text-align: right;\n",
       "    }\n",
       "</style>\n",
       "<table border=\"1\" class=\"dataframe\">\n",
       "  <thead>\n",
       "    <tr style=\"text-align: right;\">\n",
       "      <th></th>\n",
       "      <th>0</th>\n",
       "      <th>1</th>\n",
       "      <th>2</th>\n",
       "      <th>3</th>\n",
       "      <th>4</th>\n",
       "    </tr>\n",
       "  </thead>\n",
       "  <tbody>\n",
       "    <tr>\n",
       "      <th>0</th>\n",
       "      <td>2.220446e-16</td>\n",
       "      <td>-2.220446e-16</td>\n",
       "      <td>2.220446e-16</td>\n",
       "      <td>-1.595946e-16</td>\n",
       "      <td>-1.333569e-16</td>\n",
       "    </tr>\n",
       "    <tr>\n",
       "      <th>1</th>\n",
       "      <td>0.000000e+00</td>\n",
       "      <td>-8.881784e-16</td>\n",
       "      <td>-4.440892e-16</td>\n",
       "      <td>6.245005e-17</td>\n",
       "      <td>1.682682e-16</td>\n",
       "    </tr>\n",
       "    <tr>\n",
       "      <th>2</th>\n",
       "      <td>8.881784e-16</td>\n",
       "      <td>0.000000e+00</td>\n",
       "      <td>4.440892e-16</td>\n",
       "      <td>-4.597017e-17</td>\n",
       "      <td>5.811324e-17</td>\n",
       "    </tr>\n",
       "    <tr>\n",
       "      <th>3</th>\n",
       "      <td>0.000000e+00</td>\n",
       "      <td>-8.881784e-16</td>\n",
       "      <td>0.000000e+00</td>\n",
       "      <td>1.379105e-16</td>\n",
       "      <td>2.411266e-16</td>\n",
       "    </tr>\n",
       "    <tr>\n",
       "      <th>4</th>\n",
       "      <td>-2.220446e-16</td>\n",
       "      <td>-1.776357e-15</td>\n",
       "      <td>1.221245e-15</td>\n",
       "      <td>-1.776357e-15</td>\n",
       "      <td>-1.776357e-15</td>\n",
       "    </tr>\n",
       "    <tr>\n",
       "      <th>5</th>\n",
       "      <td>-3.885781e-16</td>\n",
       "      <td>-5.551115e-16</td>\n",
       "      <td>3.885781e-16</td>\n",
       "      <td>-1.776357e-15</td>\n",
       "      <td>-2.664535e-15</td>\n",
       "    </tr>\n",
       "    <tr>\n",
       "      <th>6</th>\n",
       "      <td>-1.110223e-16</td>\n",
       "      <td>-8.881784e-16</td>\n",
       "      <td>6.106227e-16</td>\n",
       "      <td>-8.881784e-16</td>\n",
       "      <td>-8.881784e-16</td>\n",
       "    </tr>\n",
       "  </tbody>\n",
       "</table>\n",
       "</div>"
      ],
      "text/plain": [
       "              0             1             2             3             4\n",
       "0  2.220446e-16 -2.220446e-16  2.220446e-16 -1.595946e-16 -1.333569e-16\n",
       "1  0.000000e+00 -8.881784e-16 -4.440892e-16  6.245005e-17  1.682682e-16\n",
       "2  8.881784e-16  0.000000e+00  4.440892e-16 -4.597017e-17  5.811324e-17\n",
       "3  0.000000e+00 -8.881784e-16  0.000000e+00  1.379105e-16  2.411266e-16\n",
       "4 -2.220446e-16 -1.776357e-15  1.221245e-15 -1.776357e-15 -1.776357e-15\n",
       "5 -3.885781e-16 -5.551115e-16  3.885781e-16 -1.776357e-15 -2.664535e-15\n",
       "6 -1.110223e-16 -8.881784e-16  6.106227e-16 -8.881784e-16 -8.881784e-16"
      ]
     },
     "execution_count": 71,
     "metadata": {},
     "output_type": "execute_result"
    }
   ],
   "source": [
    "A-(A1+A2+A3)"
   ]
  },
  {
   "cell_type": "code",
   "execution_count": 81,
   "metadata": {},
   "outputs": [],
   "source": [
    "smat = np.zeros((3, 3), dtype=float)\n",
    "smat= np.diag(s)"
   ]
  },
  {
   "cell_type": "code",
   "execution_count": 82,
   "metadata": {},
   "outputs": [
    {
     "data": {
      "text/plain": [
       "array([[12.48, 0.00, 0.00, 0.00, 0.00],\n",
       "       [0.00, 9.51, 0.00, 0.00, 0.00],\n",
       "       [0.00, 0.00, 1.35, 0.00, 0.00],\n",
       "       [0.00, 0.00, 0.00, 0.00, 0.00],\n",
       "       [0.00, 0.00, 0.00, 0.00, 0.00]])"
      ]
     },
     "execution_count": 82,
     "metadata": {},
     "output_type": "execute_result"
    }
   ],
   "source": [
    "smat"
   ]
  },
  {
   "cell_type": "code",
   "execution_count": 83,
   "metadata": {},
   "outputs": [],
   "source": [
    "X=np.dot(u[:,:3],smat[:3,:3])"
   ]
  },
  {
   "cell_type": "code",
   "execution_count": 84,
   "metadata": {},
   "outputs": [],
   "source": [
    "Y=np.dot(X,vh[:3,:])"
   ]
  },
  {
   "cell_type": "code",
   "execution_count": 85,
   "metadata": {},
   "outputs": [
    {
     "data": {
      "text/plain": [
       "array([[1.00, 1.00, 1.00, 0.00, 0.00],\n",
       "       [3.00, 3.00, 3.00, -0.00, -0.00],\n",
       "       [4.00, 4.00, 4.00, 0.00, -0.00],\n",
       "       [5.00, 5.00, 5.00, -0.00, -0.00],\n",
       "       [0.00, 2.00, -0.00, 4.00, 4.00],\n",
       "       [0.00, 0.00, -0.00, 5.00, 5.00],\n",
       "       [0.00, 1.00, -0.00, 2.00, 2.00]])"
      ]
     },
     "execution_count": 85,
     "metadata": {},
     "output_type": "execute_result"
    }
   ],
   "source": [
    "Y"
   ]
  },
  {
   "cell_type": "code",
   "execution_count": 86,
   "metadata": {},
   "outputs": [
    {
     "data": {
      "text/plain": [
       "True"
      ]
     },
     "execution_count": 86,
     "metadata": {},
     "output_type": "execute_result"
    }
   ],
   "source": [
    "np.allclose(A,Y)"
   ]
  },
  {
   "cell_type": "code",
   "execution_count": null,
   "metadata": {},
   "outputs": [],
   "source": []
  }
 ],
 "metadata": {
  "kernelspec": {
   "display_name": "Python 3",
   "language": "python",
   "name": "python3"
  },
  "language_info": {
   "codemirror_mode": {
    "name": "ipython",
    "version": 3
   },
   "file_extension": ".py",
   "mimetype": "text/x-python",
   "name": "python",
   "nbconvert_exporter": "python",
   "pygments_lexer": "ipython3",
   "version": "3.7.6"
  }
 },
 "nbformat": 4,
 "nbformat_minor": 4
}
